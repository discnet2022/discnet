{
 "cells": [
  {
   "cell_type": "code",
   "execution_count": 4,
   "id": "2b1d23b6-cb83-4ceb-b707-3a0de0154ed8",
   "metadata": {},
   "outputs": [],
   "source": [
    "from mimic3_preprocessing.segmentation import *\n",
    "import pandas as pd\n",
    "from tqdm import tqdm\n",
    "import re\n",
    "import numpy as np\n",
    "from spacy.lang.en import English\n",
    "import spacy\n",
    "import json\n",
    "from multiprocessing import Pool, cpu_count"
   ]
  },
  {
   "cell_type": "code",
   "execution_count": 24,
   "id": "c41443c5-c2d7-4eb6-b79b-f581bd4ff472",
   "metadata": {},
   "outputs": [],
   "source": [
    "NOTEEVENTS_path = \"mimic3_data/NOTEEVENTS.csv\"\n",
    "DIAGNOSES_ICD_path = 'mimic3_data/DIAGNOSES_ICD.csv'\n",
    "PROCEDURES_ICD_path = 'mimic3_data/PROCEDURES_ICD.csv'\n",
    "\n",
    "train_full_ids_path = 'mimic3_data/train_full_hadm_ids.csv'\n",
    "dev_full_ids_path = \"mimic3_data/dev_full_hadm_ids.csv\"\n",
    "test_full_ids_path = \"mimic3_data/test_full_hadm_ids.csv\"\n",
    "\n",
    "output_train_full_set_path = 'preprocessed_mimic3/train_set.json'\n",
    "output_dev_full_set_path = 'preprocessed_mimic3/dev_set.json'\n",
    "output_test_full_set_path = 'preprocessed_mimic3/test_set.json'\n",
    "\n",
    "num_cpus = cpu_count()"
   ]
  },
  {
   "cell_type": "code",
   "execution_count": 6,
   "id": "faeca9d0-0f01-4b01-b5ce-29da9b6d344a",
   "metadata": {},
   "outputs": [],
   "source": [
    "dtype = {\n",
    "    \"ROW_ID\": int,\n",
    "    \"SUBJECT_ID\": int,\n",
    "    \"HADM_ID\": \"O\",\n",
    "    \"CATEGORY\": str,\n",
    "    \"DESCRIPTION\": str,\n",
    "    \"CGID\": \"O\",\n",
    "    \"ISERROR\": str,\n",
    "    \"TEXT\": str,\n",
    "}\n",
    "parse_dates = [\"CHARTDATE\", \"CHARTTIME\", \"STORETIME\"]\n",
    "df_notes = pd.read_csv(NOTEEVENTS_path,\n",
    "                       parse_dates=parse_dates,\n",
    "                       infer_datetime_format=True,\n",
    "                       dtype=dtype,\n",
    "                       )"
   ]
  },
  {
   "cell_type": "code",
   "execution_count": 10,
   "id": "0541b00b-3ad5-4e48-b70f-44c99d10cbda",
   "metadata": {},
   "outputs": [
    {
     "name": "stderr",
     "output_type": "stream",
     "text": [
      "100%|██████████| 59652/59652 [00:37<00:00, 1597.24it/s]\n",
      "89815it [00:00, 693691.80it/s]\n"
     ]
    }
   ],
   "source": [
    "\"\"\"headings extraction\"\"\"\n",
    "df_disc = df_notes.loc[df_notes[\"CATEGORY\"] == 'Discharge summary']\n",
    "all_text = df_disc['TEXT'].tolist()\n",
    "p = re.compile(\".*:\\n\")\n",
    "all_groups = []\n",
    "for text in tqdm(all_text):\n",
    "    for m in p.finditer(text):\n",
    "        all_groups.append(m.group().lower().strip())\n",
    "all_groups, counts = np.unique(all_groups, return_counts=True)\n",
    "groups_dic = {}\n",
    "for g, c in tqdm(zip(all_groups, counts)):\n",
    "    if c > 5:\n",
    "        g = g.strip()\n",
    "        if re.match('^[\\d|#]|\\(.*\\)', g) is None:\n",
    "            groups_dic[g] = int(c)"
   ]
  },
  {
   "cell_type": "code",
   "execution_count": 11,
   "id": "65f583ae-429a-4165-96b7-994333dbc2ef",
   "metadata": {},
   "outputs": [],
   "source": [
    "preprocess = PreprocessNotes(groups_dic)\n",
    "dtype = {\n",
    "    \"ROW_ID\": int,\n",
    "    \"SUBJECT_ID\": int,\n",
    "    \"HADM_ID\": int,\n",
    "    \"SEQ_NUM\": \"O\",\n",
    "    \"ICD9_CODE\": str,\n",
    "}\n",
    "df_diag = pd.read_csv(DIAGNOSES_ICD_path, dtype=dtype)\n",
    "df_proc = pd.read_csv(PROCEDURES_ICD_path, dtype=dtype)\n",
    "df_diag_grouped = df_diag.groupby('HADM_ID')\n",
    "df_proc_grouped = df_proc.groupby('HADM_ID')\n",
    "labels_dic = {}\n",
    "for idx, _df in df_diag_grouped.__iter__():\n",
    "    labels_dic[idx] = {'diag': _df['ICD9_CODE'].tolist()}\n",
    "for idx, _df in df_proc_grouped.__iter__():\n",
    "    labels_dic[idx].update({'proc': _df['ICD9_CODE'].tolist()})\n",
    "df_disc_grouped = df_disc.groupby('HADM_ID')\n",
    "all_hadm_id = list(df_disc_grouped.groups.keys())"
   ]
  },
  {
   "cell_type": "code",
   "execution_count": 14,
   "id": "a95f5b77-fb39-458e-a537-014cd6ab760d",
   "metadata": {},
   "outputs": [],
   "source": [
    "data_dic = {}\n",
    "pool = Pool(num_cpus)\n",
    "for i in tqdm(range(0, len(all_hadm_id), num_cpus)):\n",
    "    hadm_ids_lis = all_hadm_id[i: i + num_cpus]\n",
    "\n",
    "    text_lis = []\n",
    "    for hadm_id in hadm_ids_lis:\n",
    "        _df = df_disc_grouped.get_group(hadm_id)\n",
    "        text = '\\n\\n'.join(_df['TEXT'].tolist())\n",
    "        text_lis.append(text)\n",
    "\n",
    "    data_lis = pool.map(preprocess, text_lis)\n",
    "    for hadm_id, text, data in zip(hadm_ids_lis, text_lis, data_lis):\n",
    "        data_dic[hadm_id] = {\n",
    "            'labels': labels_dic[int(hadm_id)],\n",
    "            'text': text,\n",
    "            'data': data}"
   ]
  },
  {
   "cell_type": "code",
   "execution_count": 17,
   "id": "d3f41acd-502c-4a67-8be3-41528fb92ad2",
   "metadata": {},
   "outputs": [],
   "source": [
    "with open(train_full_ids_path, 'r') as f:\n",
    "    train_full_ids = [str(i.strip()) for i in f.readlines()]\n",
    "with open(dev_full_ids_path, 'r') as f:\n",
    "    dev_full_ids = [str(i.strip()) for i in f.readlines()]\n",
    "with open(test_full_ids_path, 'r') as f:\n",
    "    test_full_ids = [str(i.strip()) for i in f.readlines()]"
   ]
  },
  {
   "cell_type": "code",
   "execution_count": 22,
   "id": "afef42a4-6688-4c61-86fd-3537b9a828ed",
   "metadata": {},
   "outputs": [],
   "source": [
    "train_set, dev_set, test_set = {}, {}, {}\n",
    "for k in train_full_ids:\n",
    "    if len(data_dic[k]['target_codes']) != 0:\n",
    "        train_set[k] = data[k]\n",
    "for k in dev_full_ids:\n",
    "    if len(data_dic[k]['target_codes']) != 0:\n",
    "        dev_set[k] = data[k]\n",
    "for k in test_full_ids:\n",
    "    if len(data_dic[k]['target_codes']) != 0:\n",
    "        test_set[k] = data[k]"
   ]
  },
  {
   "cell_type": "code",
   "execution_count": 23,
   "id": "cdd031a4-14e5-4bc4-8e5e-9da946b473b1",
   "metadata": {},
   "outputs": [],
   "source": [
    "with open(output_train_full_set_path, 'w+', encoding='utf-8') as f:\n",
    "    f.write(json.dumps(train_set, ensure_ascii=False))\n",
    "with open(output_dev_full_set_path, 'w+', encoding='utf-8') as f:\n",
    "    f.write(json.dumps(dev_set, ensure_ascii=False))\n",
    "with open(output_test_full_set_path, 'w+', encoding='utf-8') as f:\n",
    "    f.write(json.dumps(test_set, ensure_ascii=False))"
   ]
  },
  {
   "cell_type": "code",
   "execution_count": null,
   "id": "ad35e521-d017-48a5-a378-70690e1e4a63",
   "metadata": {},
   "outputs": [],
   "source": []
  }
 ],
 "metadata": {
  "kernelspec": {
   "display_name": "Python 3",
   "language": "python",
   "name": "python3"
  },
  "language_info": {
   "codemirror_mode": {
    "name": "ipython",
    "version": 3
   },
   "file_extension": ".py",
   "mimetype": "text/x-python",
   "name": "python",
   "nbconvert_exporter": "python",
   "pygments_lexer": "ipython3",
   "version": "3.8.0"
  }
 },
 "nbformat": 4,
 "nbformat_minor": 5
}
